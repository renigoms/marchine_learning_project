{
 "cells": [
  {
   "cell_type": "code",
   "execution_count": 1,
   "id": "746ac4b0",
   "metadata": {
    "ExecuteTime": {
     "end_time": "2025-07-24T23:41:22.234263Z",
     "start_time": "2025-07-24T23:41:22.226132Z"
    }
   },
   "outputs": [],
   "source": [
    "import matplotlib.pyplot as plt\n",
    "import numpy as np\n",
    "import pandas as pd\n",
    "import seaborn as sns\n",
    "from sklearn import metrics\n",
    "from sklearn.linear_model import LogisticRegression\n",
    "from sklearn.metrics import balanced_accuracy_score, classification_report\n",
    "from sklearn.model_selection import GridSearchCV, cross_val_score, train_test_split\n",
    "from sklearn.preprocessing import StandardScaler"
   ]
  },
  {
   "cell_type": "code",
   "execution_count": 2,
   "id": "11e74b79",
   "metadata": {
    "ExecuteTime": {
     "end_time": "2025-07-24T23:41:22.275906Z",
     "start_time": "2025-07-24T23:41:22.264077Z"
    }
   },
   "outputs": [],
   "source": [
    "df = pd.read_csv('../base/heart.csv')"
   ]
  },
  {
   "cell_type": "markdown",
   "id": "4f9d405a",
   "metadata": {},
   "source": [
    "Célula para corrigir os valores de zero"
   ]
  },
  {
   "cell_type": "code",
   "execution_count": 5,
   "id": "f22e9834",
   "metadata": {
    "ExecuteTime": {
     "end_time": "2025-07-24T23:41:22.347356Z",
     "start_time": "2025-07-24T23:41:22.309123Z"
    }
   },
   "outputs": [
    {
     "name": "stdout",
     "output_type": "stream",
     "text": [
      "Valores nulos após a correção:\n",
      "RestingBP      0\n",
      "Cholesterol    0\n",
      "dtype: int64\n",
      "\n",
      "Novas estatísticas descritivas:\n",
      "        RestingBP  Cholesterol\n",
      "count  918.000000   918.000000\n",
      "mean   132.538126   243.204793\n",
      "std     17.990127    53.401297\n",
      "min     80.000000    85.000000\n",
      "25%    120.000000   214.000000\n",
      "50%    130.000000   237.000000\n",
      "75%    140.000000   267.000000\n",
      "max    200.000000   603.000000\n"
     ]
    }
   ],
   "source": [
    "# Colunas com valores de zero que são clinicamente impossíveis\n",
    "cols_to_correct = [\"RestingBP\", \"Cholesterol\"]\n",
    "\n",
    "# Substituir 0 por NaN (Not a Number) para que possamos calcular a mediana corretamente\n",
    "for col in cols_to_correct:\n",
    "    df[col] = df[col].replace(0, np.nan)\n",
    "\n",
    "# Calcular a mediana de cada coluna (ignorando os NaN) e preencher os valores faltantes\n",
    "for col in cols_to_correct:\n",
    "    median_val = df[col].median()\n",
    "    df[col] = df[col].fillna(median_val)\n",
    "\n",
    "# Verificar se ainda existem valores nulos ou zeros nessas colunas\n",
    "print(\"Valores nulos após a correção:\")\n",
    "print(df[cols_to_correct].isnull().sum())\n",
    "print(\"\\nNovas estatísticas descritivas:\")\n",
    "print(df[cols_to_correct].describe())"
   ]
  },
  {
   "cell_type": "markdown",
   "id": "cc0b2b82",
   "metadata": {},
   "source": [
    "## Etapa 1: Aplicar o One-Hot Encoding"
   ]
  },
  {
   "cell_type": "code",
   "execution_count": 13,
   "id": "0a487951",
   "metadata": {
    "ExecuteTime": {
     "end_time": "2025-07-24T23:41:26.432327Z",
     "start_time": "2025-07-24T23:41:26.410966Z"
    }
   },
   "outputs": [
    {
     "name": "stdout",
     "output_type": "stream",
     "text": [
      "Colunas do DataFrame após o One-Hot Encoding:\n",
      "Index(['Age', 'RestingBP', 'Cholesterol', 'MaxHR', 'Oldpeak', 'HeartDisease',\n",
      "       'Sex_M', 'ChestPainType_ATA', 'ChestPainType_NAP', 'ChestPainType_TA',\n",
      "       'FastingBS_1', 'RestingECG_Normal', 'RestingECG_ST', 'ExerciseAngina_Y',\n",
      "       'ST_Slope_Flat', 'ST_Slope_Up'],\n",
      "      dtype='object')\n",
      "\n",
      "Primeiras linhas do novo DataFrame:\n",
      "   Age  RestingBP  Cholesterol  MaxHR  Oldpeak  HeartDisease  Sex_M  \\\n",
      "0   40      140.0        289.0    172      0.0             0      1   \n",
      "1   49      160.0        180.0    156      1.0             1      0   \n",
      "2   37      130.0        283.0     98      0.0             0      1   \n",
      "3   48      138.0        214.0    108      1.5             1      0   \n",
      "4   54      150.0        195.0    122      0.0             0      1   \n",
      "\n",
      "   ChestPainType_ATA  ChestPainType_NAP  ChestPainType_TA  FastingBS_1  \\\n",
      "0                  1                  0                 0            0   \n",
      "1                  0                  1                 0            0   \n",
      "2                  1                  0                 0            0   \n",
      "3                  0                  0                 0            0   \n",
      "4                  0                  1                 0            0   \n",
      "\n",
      "   RestingECG_Normal  RestingECG_ST  ExerciseAngina_Y  ST_Slope_Flat  \\\n",
      "0                  1              0                 0              0   \n",
      "1                  1              0                 0              1   \n",
      "2                  0              1                 0              0   \n",
      "3                  1              0                 1              1   \n",
      "4                  1              0                 0              0   \n",
      "\n",
      "   ST_Slope_Up  \n",
      "0            1  \n",
      "1            0  \n",
      "2            1  \n",
      "3            0  \n",
      "4            1  \n"
     ]
    }
   ],
   "source": [
    "categorical_features = [\n",
    "    \"Sex\",\n",
    "    \"ChestPainType\",\n",
    "    \"FastingBS\",\n",
    "    \"RestingECG\",\n",
    "    \"ExerciseAngina\",\n",
    "    \"ST_Slope\",\n",
    "]\n",
    "\n",
    "# Usamos pd.get_dummies para criar as novas colunas\n",
    "# drop_first=True: Remove a primeira categoria de cada feature. Isso evita redundância (multicolinearidade).\n",
    "# dtype=int: Cria as novas colunas com 0s e 1s em vez de True/False.\n",
    "df_encoded = pd.get_dummies(\n",
    "    df, columns=categorical_features, drop_first=True, dtype=int\n",
    ")\n",
    "\n",
    "print(\"Colunas do DataFrame após o One-Hot Encoding:\")\n",
    "print(df_encoded.columns)\n",
    "print(\"\\nPrimeiras linhas do novo DataFrame:\")\n",
    "print(df_encoded.head())"
   ]
  },
  {
   "cell_type": "markdown",
   "id": "30156e35",
   "metadata": {},
   "source": [
    "### Etapa 2: Nova Seleção de Recursos e Divisão\n",
    "Seleção de recurso\n",
    "\n",
    "- Variáveis independentes (features):\n",
    "São as colunas que você usa como base para prever a target.\n",
    "\n",
    "- Variável dependente (target):\n",
    "A variável que você quer prever — neste caso, se a pessoa tem ou não doença cardíaca"
   ]
  },
  {
   "cell_type": "code",
   "execution_count": 14,
   "id": "d203c7cb",
   "metadata": {
    "ExecuteTime": {
     "end_time": "2025-07-24T23:41:26.515081Z",
     "start_time": "2025-07-24T23:41:26.495419Z"
    }
   },
   "outputs": [],
   "source": [
    "# Agora, separamos X e y a partir deste NOVO DataFrame codificado\n",
    "X = df_encoded.drop(\"HeartDisease\", axis=1)  # remove a coluna target, fica só com as features\n",
    "y = df_encoded[\"HeartDisease\"]  # pega só a coluna target para prever\n",
    "\n",
    "X_train, X_test, y_train, y_test = train_test_split(\n",
    "    X, y, test_size=0.25, random_state=16\n",
    ")\n",
    "\n",
    "# Aplicamos a padronização\n",
    "scaler = StandardScaler()\n",
    "\n",
    "X_train_scaled = pd.DataFrame(\n",
    "    scaler.fit_transform(X_train), columns=X_train.columns, index=X_train.index\n",
    ")\n",
    "X_test_scaled = pd.DataFrame(\n",
    "    scaler.transform(X_test), columns=X_test.columns, index=X_test.index\n",
    ")"
   ]
  },
  {
   "cell_type": "markdown",
   "id": "13e8e3fa",
   "metadata": {},
   "source": [
    "## Busca de Hiperparâmetros com Validação Cruzada "
   ]
  },
  {
   "cell_type": "code",
   "execution_count": 15,
   "id": "e45b1097",
   "metadata": {
    "ExecuteTime": {
     "end_time": "2025-07-24T23:41:34.773817Z",
     "start_time": "2025-07-24T23:41:26.577370Z"
    }
   },
   "outputs": [
    {
     "name": "stdout",
     "output_type": "stream",
     "text": [
      "Melhores parâmetros encontrados: {'C': 0.1, 'penalty': 'l2', 'solver': 'liblinear'}\n"
     ]
    }
   ],
   "source": [
    "#  Defina a grade de parâmetros para testar\n",
    "param_grid = {\n",
    "    \"penalty\": [\"l1\", \"l2\"],\n",
    "    \"C\": [0.001, 0.01, 0.1, 1, 10, 100],\n",
    "    \"solver\": [\"liblinear\"],  # 'liblinear' é compatível com as penalidades l1 e l2\n",
    "}\n",
    "\n",
    "#    Crie o objeto GridSearchCV\n",
    "#    - estimator: seu modelo base\n",
    "#    - param_grid: a grade de parâmetros\n",
    "#    - scoring: a métrica que o projeto pede (ex: 'f1_weighted' ou 'balanced_accuracy')\n",
    "#    - cv: o número de folds da validação cruzada\n",
    "grid_search = GridSearchCV(\n",
    "    estimator=LogisticRegression(random_state=16, max_iter=1000),\n",
    "    param_grid=param_grid,\n",
    "    scoring=\"f1_weighted\",  # ou 'balanced_accuracy'\n",
    "    cv=5,\n",
    "    n_jobs=-1,  # Usa todos os processadores disponíveis para acelerar\n",
    ")\n",
    "\n",
    "#  Treine o GridSearchCV com os dados de treino já padronizados\n",
    "grid_search.fit(X_train_scaled, y_train)\n",
    "\n",
    "print(f\"Melhores parâmetros encontrados: {grid_search.best_params_}\")\n",
    "best_model = grid_search.best_estimator_"
   ]
  },
  {
   "cell_type": "markdown",
   "id": "1b0f641d",
   "metadata": {},
   "source": [
    "## Usaremos o melhor modelo encontrado pelo GridSearchCV"
   ]
  },
  {
   "cell_type": "code",
   "execution_count": 16,
   "id": "6fbe7bdc",
   "metadata": {
    "ExecuteTime": {
     "end_time": "2025-07-24T23:41:35.644098Z",
     "start_time": "2025-07-24T23:41:34.819601Z"
    }
   },
   "outputs": [
    {
     "name": "stdout",
     "output_type": "stream",
     "text": [
      "Usando o modelo com os parâmetros: {'C': 0.1, 'class_weight': None, 'dual': False, 'fit_intercept': True, 'intercept_scaling': 1, 'l1_ratio': None, 'max_iter': 1000, 'multi_class': 'deprecated', 'n_jobs': None, 'penalty': 'l2', 'random_state': 16, 'solver': 'liblinear', 'tol': 0.0001, 'verbose': 0, 'warm_start': False}\n",
      "['0.8638795045045045', '0.845981803391906', '0.8486638498113906', '0.8487010276038639', '0.8445421489640644', '0.8390424987199181', '0.8527345598263242', '0.8518087562155359', '0.8495967147606491', '0.8485298035298035', '0.8584490100063871', '0.8668944306827354', '0.8544673632378551', '0.8512817125261112', '0.8615227556538434', '0.8689241652518392', '0.8594212890934203', '0.8521155083920584', '0.8630399826162538', '0.8631628533699841', '0.8548081699721044', '0.8444317353067353', '0.8581587032096369', '0.8655257591360739', '0.8552382259673028', '0.8497791756266333', '0.8556748988716203', '0.8495752806852476', '0.8521607782898105', '0.8628248587570623']\n",
      "\n",
      "==================================================\n",
      "Resultado Final após 30 Execuções da Validação Cruzada 5-Fold\n",
      "==================================================\n",
      "Métrica utilizada: balanced_accuracy\n",
      "Média das médias dos scores: 0.8547\n",
      "Desvio padrão das médias dos scores: 0.0073\n",
      "==================================================\n"
     ]
    }
   ],
   "source": [
    "print(f\"Usando o modelo com os parâmetros: {best_model.get_params()}\")\n",
    "\n",
    "# Métrica a ser usada na validação cruzada\n",
    "# Opções: 'f1_weighted' ou 'balanced_accuracy'\n",
    "METRICA_ESCOLHIDA = \"balanced_accuracy\"\n",
    "\n",
    "metric_scores_means = []\n",
    "N_REPETICOES = 30\n",
    "\n",
    "for i in range(N_REPETICOES):\n",
    "    #  Divida os dados com um random_state diferente a cada iteração\n",
    "    X_train, X_test, y_train, y_test = train_test_split(\n",
    "        X, y, test_size=0.25, random_state=i\n",
    "    )\n",
    "\n",
    "    #  Padronize os dados DENTRO do loop para evitar data leakage\n",
    "    scaler = StandardScaler()\n",
    "    X_train_scaled = scaler.fit_transform(X_train)\n",
    "    X_test_scaled = scaler.transform(X_test)\n",
    "\n",
    "    #  Execute a validação cruzada com 5 folds\n",
    "    #  A função retorna um array com 5 scores (um para cada fold)\n",
    "    scores = cross_val_score(\n",
    "        estimator=best_model,\n",
    "        X=X_train_scaled,\n",
    "        y=y_train,\n",
    "        cv=5,\n",
    "        scoring=METRICA_ESCOLHIDA,\n",
    "    )\n",
    "\n",
    "    metric_scores_means.append(scores.mean())\n",
    "    # print(\n",
    "    #     f\"Execução {i + 1}/{N_REPETICOES} | Média da {METRICA_ESCOLHIDA}: {scores.mean():.4f}\"\n",
    "    # )\n",
    "\n",
    "formatted_scores = [f\"{score}\" for score in metric_scores_means]\n",
    "print(formatted_scores)\n",
    "mean_of_means = np.mean(metric_scores_means)\n",
    "std_of_means = np.std(metric_scores_means)\n",
    "\n",
    "print(\"\\n\" + \"=\" * 50)\n",
    "print(\"Resultado Final após 30 Execuções da Validação Cruzada 5-Fold\")\n",
    "print(\"=\" * 50)\n",
    "print(f\"Métrica utilizada: {METRICA_ESCOLHIDA}\")\n",
    "print(f\"Média das médias dos scores: {mean_of_means:.4f}\")\n",
    "print(f\"Desvio padrão das médias dos scores: {std_of_means:.4f}\")\n",
    "print(\"=\" * 50)"
   ]
  },
  {
   "cell_type": "markdown",
   "id": "fae984ef",
   "metadata": {},
   "source": [
    "## Desenvolvimento e previsão de modelos"
   ]
  },
  {
   "cell_type": "code",
   "execution_count": 17,
   "id": "1c867a29",
   "metadata": {
    "ExecuteTime": {
     "end_time": "2025-07-24T23:41:35.698485Z",
     "start_time": "2025-07-24T23:41:35.681246Z"
    }
   },
   "outputs": [],
   "source": [
    "logreg = best_model.fit(X_train_scaled, y_train)\n",
    "\n",
    "logreg.fit(X_train_scaled, y_train)\n",
    "\n",
    "y_pred = best_model.predict(X_test_scaled)"
   ]
  },
  {
   "cell_type": "markdown",
   "id": "c50a989b",
   "metadata": {},
   "source": [
    "Análise dos Coeficientes do Modelo (Explicabilidade):\n",
    "A Regressão Logística permite ver quais features mais influenciaram a previsão."
   ]
  },
  {
   "cell_type": "code",
   "execution_count": 18,
   "id": "04d30dc2",
   "metadata": {
    "ExecuteTime": {
     "end_time": "2025-07-24T23:41:35.746442Z",
     "start_time": "2025-07-24T23:41:35.734512Z"
    }
   },
   "outputs": [
    {
     "name": "stdout",
     "output_type": "stream",
     "text": [
      "Features mais importantes para o modelo:\n",
      "                   Coefficient\n",
      "Sex_M                 0.538748\n",
      "ST_Slope_Flat         0.499387\n",
      "FastingBS_1           0.449194\n",
      "Oldpeak               0.373378\n",
      "ExerciseAngina_Y      0.368846\n",
      "Age                   0.182964\n",
      "RestingBP             0.059193\n",
      "Cholesterol           0.031405\n",
      "RestingECG_Normal    -0.044104\n",
      "RestingECG_ST        -0.083194\n",
      "ChestPainType_TA     -0.200159\n",
      "MaxHR                -0.221127\n",
      "ST_Slope_Up          -0.571863\n",
      "ChestPainType_ATA    -0.589696\n",
      "ChestPainType_NAP    -0.635343\n"
     ]
    }
   ],
   "source": [
    "coefficients = pd.DataFrame(logreg.coef_[0], X.columns, columns=[\"Coefficient\"])\n",
    "\n",
    "print(\"Features mais importantes para o modelo:\")\n",
    "print(coefficients.sort_values(\"Coefficient\", ascending=False))"
   ]
  },
  {
   "cell_type": "code",
   "execution_count": 19,
   "id": "80008db7",
   "metadata": {
    "ExecuteTime": {
     "end_time": "2025-07-24T23:41:36.204665Z",
     "start_time": "2025-07-24T23:41:35.784836Z"
    }
   },
   "outputs": [
    {
     "data": {
      "image/png": "[encoded data removed]",
      "text/plain": [
       "<Figure size 1000x800 with 1 Axes>"
      ]
     },
     "metadata": {},
     "output_type": "display_data"
    }
   ],
   "source": [
    "sorted_coefficients = coefficients.sort_values(\"Coefficient\")\n",
    "\n",
    "plt.figure(figsize=(10, 8))\n",
    "sorted_coefficients[\"Coefficient\"].plot(\n",
    "    kind=\"barh\",\n",
    "    color=sorted_coefficients[\"Coefficient\"].apply(lambda x: \"g\" if x > 0 else \"r\"),\n",
    ")\n",
    "plt.title(\"Impacto das Features na Previsão de Doença Cardíaca\")\n",
    "plt.xlabel(\"Valor do Coeficiente\")\n",
    "plt.ylabel(\"Feature\")\n",
    "plt.axvline(\n",
    "    x=0, color=\"grey\", linestyle=\"--\"\n",
    ")  # Adiciona uma linha no zero para referência\n",
    "plt.grid(axis=\"x\", linestyle=\"--\", alpha=0.6)\n",
    "plt.show()"
   ]
  },
  {
   "cell_type": "markdown",
   "id": "6b2cbf6d",
   "metadata": {},
   "source": [
    "Calcula a acurácia balanceada"
   ]
  },
  {
   "cell_type": "code",
   "execution_count": 20,
   "id": "b4c57a2b",
   "metadata": {
    "ExecuteTime": {
     "end_time": "2025-07-24T23:41:36.264492Z",
     "start_time": "2025-07-24T23:41:36.244566Z"
    }
   },
   "outputs": [
    {
     "name": "stdout",
     "output_type": "stream",
     "text": [
      "Acurácia: 0.8522\n",
      "Acurácia Balanceada: 0.8516\n",
      "F1-Score (Ponderado): 0.8521\n"
     ]
    }
   ],
   "source": [
    "balanced_acc = balanced_accuracy_score(y_test, y_pred)\n",
    "\n",
    "print(f\"Acurácia: {logreg.score(X_test_scaled, y_test):.4f}\")\n",
    "print(f\"Acurácia Balanceada: {balanced_acc:.4f}\")\n",
    "print(\n",
    "    f\"F1-Score (Ponderado): {metrics.f1_score(y_test, y_pred, average='weighted'):.4f}\"\n",
    ")"
   ]
  },
  {
   "cell_type": "code",
   "execution_count": 21,
   "id": "a19935b3",
   "metadata": {
    "ExecuteTime": {
     "end_time": "2025-07-24T23:41:36.313317Z",
     "start_time": "2025-07-24T23:41:36.302553Z"
    }
   },
   "outputs": [
    {
     "data": {
      "text/plain": [
       "array([[ 93,  19],\n",
       "       [ 15, 103]])"
      ]
     },
     "execution_count": 21,
     "metadata": {},
     "output_type": "execute_result"
    }
   ],
   "source": [
    "cnf_matrix = metrics.confusion_matrix(y_test, y_pred)\n",
    "cnf_matrix"
   ]
  },
  {
   "cell_type": "code",
   "execution_count": 22,
   "id": "5a12e220",
   "metadata": {
    "ExecuteTime": {
     "end_time": "2025-07-24T23:41:36.646523Z",
     "start_time": "2025-07-24T23:41:36.396408Z"
    }
   },
   "outputs": [
    {
     "data": {
      "text/plain": [
       "Text(0.5, 427.9555555555555, 'Predicted label')"
      ]
     },
     "execution_count": 22,
     "metadata": {},
     "output_type": "execute_result"
    },
    {
     "data": {
      "image/png": "[encoded data removed]",
      "text/plain": [
       "<Figure size 640x480 with 2 Axes>"
      ]
     },
     "metadata": {},
     "output_type": "display_data"
    }
   ],
   "source": [
    "class_names = [0, 1]  # name  of classes\n",
    "fig, ax = plt.subplots()\n",
    "tick_marks = np.arange(len(class_names))\n",
    "plt.xticks(tick_marks, class_names)\n",
    "plt.yticks(tick_marks, class_names)\n",
    "sns.heatmap(pd.DataFrame(cnf_matrix), annot=True, cmap=\"YlGnBu\", fmt=\"g\")\n",
    "ax.xaxis.set_label_position(\"top\")\n",
    "plt.tight_layout()\n",
    "plt.title(\"Confusion matrix\", y=1.1)\n",
    "plt.ylabel(\"Actual label\")\n",
    "plt.xlabel(\"Predicted label\")"
   ]
  },
  {
   "cell_type": "markdown",
   "id": "fdf117d1",
   "metadata": {},
   "source": [
    "### Métricas de avaliação da matriz de confusão"
   ]
  },
  {
   "cell_type": "code",
   "execution_count": 23,
   "id": "53deae6a",
   "metadata": {
    "ExecuteTime": {
     "end_time": "2025-07-24T23:41:36.717046Z",
     "start_time": "2025-07-24T23:41:36.697947Z"
    }
   },
   "outputs": [
    {
     "name": "stdout",
     "output_type": "stream",
     "text": [
      "                      precision    recall  f1-score   support\n",
      "\n",
      "Without HeartDisease       0.86      0.83      0.85       112\n",
      "   With HeartDisease       0.84      0.87      0.86       118\n",
      "\n",
      "            accuracy                           0.85       230\n",
      "           macro avg       0.85      0.85      0.85       230\n",
      "        weighted avg       0.85      0.85      0.85       230\n",
      "\n"
     ]
    }
   ],
   "source": [
    "target_names = [\"Without HeartDisease\", \"With HeartDisease\"]\n",
    "print(classification_report(y_test, y_pred, target_names=target_names))"
   ]
  },
  {
   "cell_type": "markdown",
   "id": "4477af0b",
   "metadata": {},
   "source": [
    "## Curva ROC\n",
    "A curva ROC (Receiver Operating Characteristic, característica operacional do receptor) é um gráfico da taxa de verdadeiros positivos em relação à taxa de falsos positivos. Ele mostra a troca entre sensibilidade e especificidade.\n",
    "\n",
    "A pontuação AUC para o caso é de 0,91. A pontuação AUC 1 representa um classificador perfeito, e 0,5 representa um classificador inútil."
   ]
  },
  {
   "cell_type": "code",
   "execution_count": null,
   "id": "7a382212",
   "metadata": {
    "ExecuteTime": {
     "end_time": "2025-07-24T23:41:36.929483Z",
     "start_time": "2025-07-24T23:41:36.729687Z"
    }
   },
   "outputs": [
    {
     "data": {
      "image/png": "[encoded data removed]",
      "text/plain": [
       "<Figure size 640x480 with 1 Axes>"
      ]
     },
     "metadata": {},
     "output_type": "display_data"
    }
   ],
   "source": [
    "y_pred_proba = logreg.predict_proba(X_test_scaled)[::,1]\n",
    "fpr, tpr, _ = metrics.roc_curve(y_test, y_pred_proba)\n",
    "auc = metrics.roc_auc_score(y_test, y_pred_proba)\n",
    "dados = {\"name_model\":\"Logistic Regresion\",\"fpr\": fpr.tolist(), \"tpr\": tpr.tolist(), \"roc_auc\": float(auc)},\n",
    "import json\n",
    "path = '../analysis/statiscal/roc_auc_data.json'\n",
    "with open(path, \"r\", encoding=\"utf-8\") as f:\n",
    "    read_data = json.load(f)\n",
    "\n",
    "read_data[\"lr_roc_auc\"] = dados\n",
    "\n",
    "with open(path, \"w\", encoding=\"utf-8\") as f:\n",
    "    json.dump(read_data, f, indent=4, ensure_ascii=False)\n",
    "plt.plot(fpr, tpr, label=f\"Curva ROC (AUC = {auc:.2f})\")\n",
    "plt.plot(\n",
    "    [0, 1], [0, 1], color=\"navy\", lw=2, linestyle=\"--\"\n",
    ")\n",
    "plt.legend(loc=4)\n",
    "plt.show()"
   ]
  }
 ],
 "metadata": {
  "kernelspec": {
   "display_name": "venv",
   "language": "python",
   "name": "python3"
  },
  "language_info": {
   "codemirror_mode": {
    "name": "ipython",
    "version": 3
   },
   "file_extension": ".py",
   "mimetype": "text/x-python",
   "name": "python",
   "nbconvert_exporter": "python",
   "pygments_lexer": "ipython3",
   "version": "3.12.3"
  }
 },
 "nbformat": 4,
 "nbformat_minor": 5
}
