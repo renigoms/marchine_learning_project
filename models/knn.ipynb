{
 "cells": [
  {
   "cell_type": "code",
   "execution_count": 2,
   "id": "1d208183",
   "metadata": {
    "ExecuteTime": {
     "end_time": "2025-07-24T23:32:36.700867Z",
     "start_time": "2025-07-24T23:32:36.689539Z"
    }
   },
   "outputs": [],
   "source": [
    "import matplotlib.pyplot as plt\n",
    "import numpy as np\n",
    "import pandas as pd\n",
    "import seaborn as sns\n",
    "from sklearn import metrics\n",
    "from sklearn.metrics import (\n",
    "    balanced_accuracy_score,\n",
    "    classification_report,\n",
    "    f1_score,\n",
    "    roc_auc_score,\n",
    "    roc_curve,\n",
    ")\n",
    "from sklearn.model_selection import GridSearchCV, cross_val_score, train_test_split\n",
    "from sklearn.neighbors import KNeighborsClassifier\n",
    "from sklearn.preprocessing import StandardScaler"
   ]
  },
  {
   "cell_type": "code",
   "execution_count": 3,
   "id": "425e8bf0",
   "metadata": {
    "ExecuteTime": {
     "end_time": "2025-07-24T23:32:36.725977Z",
     "start_time": "2025-07-24T23:32:36.716391Z"
    }
   },
   "outputs": [],
   "source": [
    "df = pd.read_csv('../base/heart.csv')"
   ]
  },
  {
   "cell_type": "markdown",
   "id": "93e209bb",
   "metadata": {},
   "source": [
    "Corrigir os valores de zero"
   ]
  },
  {
   "cell_type": "code",
   "execution_count": 11,
   "id": "da513ae7",
   "metadata": {
    "ExecuteTime": {
     "end_time": "2025-07-24T23:32:37.141150Z",
     "start_time": "2025-07-24T23:32:37.106202Z"
    }
   },
   "outputs": [
    {
     "name": "stdout",
     "output_type": "stream",
     "text": [
      "Valores nulos após a correção:\n",
      "RestingBP      0\n",
      "Cholesterol    0\n",
      "dtype: int64\n",
      "\n",
      "Novas estatísticas descritivas:\n",
      "        RestingBP  Cholesterol\n",
      "count  918.000000   918.000000\n",
      "mean   132.538126   243.204793\n",
      "std     17.990127    53.401297\n",
      "min     80.000000    85.000000\n",
      "25%    120.000000   214.000000\n",
      "50%    130.000000   237.000000\n",
      "75%    140.000000   267.000000\n",
      "max    200.000000   603.000000\n"
     ]
    }
   ],
   "source": [
    "# Colunas com valores de zero que são clinicamente impossíveis\n",
    "cols_to_correct = [\"RestingBP\", \"Cholesterol\"]\n",
    "\n",
    "# Substituir 0 por NaN (Not a Number) para que possamos calcular a mediana corretamente\n",
    "for col in cols_to_correct:\n",
    "    df[col] = df[col].replace(0, np.nan)\n",
    "\n",
    "# Calcular a mediana de cada coluna (ignorando os NaN) e preencher os valores faltantes\n",
    "for col in cols_to_correct:\n",
    "    median_val = df[col].median()\n",
    "    df[col] = df[col].fillna(median_val)\n",
    "\n",
    "print(\"Valores nulos após a correção:\")\n",
    "print(df[cols_to_correct].isnull().sum())\n",
    "print(\"\\nNovas estatísticas descritivas:\")\n",
    "print(df[cols_to_correct].describe())"
   ]
  },
  {
   "cell_type": "markdown",
   "id": "4ed13c47",
   "metadata": {},
   "source": [
    "Etapa 1: Aplicar o One-Hot Encoding"
   ]
  },
  {
   "cell_type": "code",
   "execution_count": 12,
   "id": "7b901263",
   "metadata": {
    "ExecuteTime": {
     "end_time": "2025-07-24T23:32:37.214724Z",
     "start_time": "2025-07-24T23:32:37.181677Z"
    }
   },
   "outputs": [
    {
     "name": "stdout",
     "output_type": "stream",
     "text": [
      "Colunas do DataFrame após o One-Hot Encoding:\n",
      "Index(['Age', 'RestingBP', 'Cholesterol', 'MaxHR', 'Oldpeak', 'HeartDisease',\n",
      "       'Sex_M', 'ChestPainType_ATA', 'ChestPainType_NAP', 'ChestPainType_TA',\n",
      "       'FastingBS_1', 'RestingECG_Normal', 'RestingECG_ST', 'ExerciseAngina_Y',\n",
      "       'ST_Slope_Flat', 'ST_Slope_Up'],\n",
      "      dtype='object')\n",
      "\n",
      "Primeiras linhas do novo DataFrame:\n",
      "   Age  RestingBP  Cholesterol  MaxHR  Oldpeak  HeartDisease  Sex_M  \\\n",
      "0   40      140.0        289.0    172      0.0             0      1   \n",
      "1   49      160.0        180.0    156      1.0             1      0   \n",
      "2   37      130.0        283.0     98      0.0             0      1   \n",
      "3   48      138.0        214.0    108      1.5             1      0   \n",
      "4   54      150.0        195.0    122      0.0             0      1   \n",
      "\n",
      "   ChestPainType_ATA  ChestPainType_NAP  ChestPainType_TA  FastingBS_1  \\\n",
      "0                  1                  0                 0            0   \n",
      "1                  0                  1                 0            0   \n",
      "2                  1                  0                 0            0   \n",
      "3                  0                  0                 0            0   \n",
      "4                  0                  1                 0            0   \n",
      "\n",
      "   RestingECG_Normal  RestingECG_ST  ExerciseAngina_Y  ST_Slope_Flat  \\\n",
      "0                  1              0                 0              0   \n",
      "1                  1              0                 0              1   \n",
      "2                  0              1                 0              0   \n",
      "3                  1              0                 1              1   \n",
      "4                  1              0                 0              0   \n",
      "\n",
      "   ST_Slope_Up  \n",
      "0            1  \n",
      "1            0  \n",
      "2            1  \n",
      "3            0  \n",
      "4            1  \n"
     ]
    }
   ],
   "source": [
    "# Primeiro, identificamos as colunas que são realmente categóricas\n",
    "# Note que não incluímos a variável alvo 'HeartDisease'\n",
    "categorical_features = [\n",
    "    \"Sex\",\n",
    "    \"ChestPainType\",\n",
    "    \"FastingBS\",\n",
    "    \"RestingECG\",\n",
    "    \"ExerciseAngina\",\n",
    "    \"ST_Slope\",\n",
    "]\n",
    "\n",
    "# Usamos pd.get_dummies para criar as novas colunas\n",
    "# drop_first=True: Remove a primeira categoria de cada feature. Isso evita redundância (multicolinearidade).\n",
    "# dtype=int: Cria as novas colunas com 0s e 1s em vez de True/False.\n",
    "df_encoded = pd.get_dummies(\n",
    "    df, columns=categorical_features, drop_first=True, dtype=int\n",
    ")\n",
    "\n",
    "print(\"Colunas do DataFrame após o One-Hot Encoding:\")\n",
    "print(df_encoded.columns)\n",
    "print(\"\\nPrimeiras linhas do novo DataFrame:\")\n",
    "print(df_encoded.head())"
   ]
  },
  {
   "cell_type": "markdown",
   "id": "6a16d204",
   "metadata": {},
   "source": [
    "Etapa 2: Nova Seleção de Recursos e Divisão\n",
    "Seleção de recurso\n",
    "\n",
    "- Variáveis independentes (features):\n",
    "São as colunas que você usa como base para prever a target.\n",
    "\n",
    "- Variável dependente (target):\n",
    "A variável que você quer prever — neste caso, se a pessoa tem ou não doença cardíaca"
   ]
  },
  {
   "cell_type": "code",
   "execution_count": 13,
   "id": "2efd7ab3",
   "metadata": {
    "ExecuteTime": {
     "end_time": "2025-07-24T23:32:37.251834Z",
     "start_time": "2025-07-24T23:32:37.228737Z"
    }
   },
   "outputs": [],
   "source": [
    "X = df_encoded.drop(\"HeartDisease\", axis=1)  # remove a coluna target, fica só com as features\n",
    "y = df_encoded[\"HeartDisease\"]  # pega só a coluna target para prever\n",
    "\n",
    "X_train, X_test, y_train, y_test = train_test_split(\n",
    "    X, y, test_size=0.25, random_state=16\n",
    ")\n",
    "\n",
    "# Aplicamos a padronização\n",
    "scaler = StandardScaler()\n",
    "\n",
    "X_train_scaled = pd.DataFrame(\n",
    "    scaler.fit_transform(X_train), columns=X_train.columns, index=X_train.index\n",
    ")\n",
    "X_test_scaled = pd.DataFrame(\n",
    "    scaler.transform(X_test), columns=X_test.columns, index=X_test.index\n",
    ")"
   ]
  },
  {
   "cell_type": "markdown",
   "id": "57be35d3",
   "metadata": {},
   "source": [
    "Otimização do Hiperparâmetro K para o KNN"
   ]
  },
  {
   "cell_type": "code",
   "execution_count": 14,
   "id": "849577a6",
   "metadata": {
    "ExecuteTime": {
     "end_time": "2025-07-24T23:32:44.634362Z",
     "start_time": "2025-07-24T23:32:37.304409Z"
    }
   },
   "outputs": [
    {
     "name": "stdout",
     "output_type": "stream",
     "text": [
      "Melhor 'k' encontrado pelo GridSearchCV: 13\n"
     ]
    }
   ],
   "source": [
    "#  Defina a grade de parâmetros para testar\n",
    "#  Para o KNN, o principal é o 'n_neighbors' (k)\n",
    "param_grid_knn = {\n",
    "    \"n_neighbors\": range(1, 31)\n",
    "}\n",
    "\n",
    "#  Crie o objeto GridSearchCV\n",
    "#  - scoring: a métrica do projeto ('f1_weighted' ou 'balanced_accuracy')\n",
    "#  - cv: 5 folds\n",
    "grid_search_knn = GridSearchCV(\n",
    "    estimator=KNeighborsClassifier(),\n",
    "    param_grid=param_grid_knn,\n",
    "    scoring=\"f1_weighted\",\n",
    "    cv=5,\n",
    "    n_jobs=-1,  # Acelera o processo\n",
    ")\n",
    "\n",
    "#    Treine o GridSearchCV com os dados de treino padronizados\n",
    "#    (Use o X_train_scaled e y_train da divisão inicial)\n",
    "grid_search_knn.fit(X_train_scaled, y_train)\n",
    "\n",
    "best_k = grid_search_knn.best_params_[\"n_neighbors\"]\n",
    "print(f\"Melhor 'k' encontrado pelo GridSearchCV: {best_k}\")\n",
    "\n",
    "best_knn_model = KNeighborsClassifier(n_neighbors=best_k)"
   ]
  },
  {
   "cell_type": "code",
   "execution_count": 15,
   "id": "1e8c9a41",
   "metadata": {
    "ExecuteTime": {
     "end_time": "2025-07-24T23:32:44.730822Z",
     "start_time": "2025-07-24T23:32:44.688794Z"
    }
   },
   "outputs": [
    {
     "name": "stdout",
     "output_type": "stream",
     "text": [
      "Avaliação do Modelo KNN com k=13:\n",
      "========================================\n",
      "Acurácia Balanceada: 0.8618\n",
      "F1-Score (Ponderado): 0.8645\n",
      "========================================\n",
      "Relatório de Classificação Detalhado:\n",
      "              precision    recall  f1-score   support\n",
      "\n",
      "  Sem Doença       0.90      0.81      0.85       108\n",
      "  Com Doença       0.84      0.92      0.88       122\n",
      "\n",
      "    accuracy                           0.87       230\n",
      "   macro avg       0.87      0.86      0.86       230\n",
      "weighted avg       0.87      0.87      0.86       230\n",
      "\n"
     ]
    }
   ],
   "source": [
    "best_knn_model = KNeighborsClassifier(n_neighbors=best_k)\n",
    "best_knn_model.fit(X_train_scaled, y_train)\n",
    "y_pred_best_knn_model = best_knn_model.predict(X_test_scaled)\n",
    "\n",
    "f1 = f1_score(y_test, y_pred_best_knn_model, average=\"weighted\")\n",
    "\n",
    "balanced_acc = balanced_accuracy_score(y_test, y_pred_best_knn_model)\n",
    "\n",
    "print(f\"Avaliação do Modelo KNN com k={best_k}:\")\n",
    "print(\"=\" * 40)\n",
    "print(f\"Acurácia Balanceada: {balanced_acc:.4f}\")\n",
    "print(f\"F1-Score (Ponderado): {f1:.4f}\")\n",
    "print(\"=\" * 40)\n",
    "\n",
    "print(\"Relatório de Classificação Detalhado:\")\n",
    "print(\n",
    "    classification_report(y_test, y_pred_best_knn_model, target_names=[\"Sem Doença\", \"Com Doença\"])\n",
    ")"
   ]
  },
  {
   "cell_type": "code",
   "execution_count": 16,
   "id": "5e580fb2",
   "metadata": {
    "ExecuteTime": {
     "end_time": "2025-07-24T23:32:44.785794Z",
     "start_time": "2025-07-24T23:32:44.771838Z"
    }
   },
   "outputs": [
    {
     "data": {
      "text/plain": [
       "array([[ 87,  21],\n",
       "       [ 10, 112]])"
      ]
     },
     "execution_count": 16,
     "metadata": {},
     "output_type": "execute_result"
    }
   ],
   "source": [
    "cnf_matrix = metrics.confusion_matrix(y_test, y_pred_best_knn_model)\n",
    "cnf_matrix"
   ]
  },
  {
   "cell_type": "code",
   "execution_count": 17,
   "id": "7bcd6095",
   "metadata": {
    "ExecuteTime": {
     "end_time": "2025-07-24T23:32:44.879964Z",
     "start_time": "2025-07-24T23:32:44.833786Z"
    }
   },
   "outputs": [],
   "source": [
    "\n",
    "y_pred_proba = best_knn_model.predict_proba(X_test_scaled)[:, 1]\n",
    "fpr, tpr, thresholds = roc_curve(y_test, y_pred_proba)\n",
    "auc = roc_auc_score(y_test, y_pred_proba)\n",
    "\n",
    "dados = {\"name_model\":\"KNN\", \"fpr\": fpr.tolist(), \"tpr\": tpr.tolist(), \"roc_auc\": float(auc)},\n",
    "import json\n",
    "path = '../analysis/statiscal/roc_auc_data.json'\n",
    "with open(path, \"r\", encoding=\"utf-8\") as f:\n",
    "    read_data = json.load(f)\n",
    "\n",
    "read_data[\"knn_roc_auc\"] = dados\n",
    "\n",
    "with open(path, \"w\", encoding=\"utf-8\") as f:\n",
    "    json.dump(read_data, f, indent=4, ensure_ascii=False)"
   ]
  },
  {
   "cell_type": "code",
   "execution_count": 18,
   "id": "c2a1b9ca",
   "metadata": {
    "ExecuteTime": {
     "end_time": "2025-07-24T23:32:45.110514Z",
     "start_time": "2025-07-24T23:32:44.931679Z"
    }
   },
   "outputs": [
    {
     "data": {
      "image/png": "[encoded data removed]",
      "text/plain": [
       "<Figure size 800x600 with 1 Axes>"
      ]
     },
     "metadata": {},
     "output_type": "display_data"
    }
   ],
   "source": [
    "plt.figure(figsize=(8, 6))\n",
    "plt.plot(fpr, tpr, label=f\"Curva ROC (AUC = {auc:.2f})\")\n",
    "plt.plot(\n",
    "    [0, 1], [0, 1], color=\"navy\", lw=2, linestyle=\"--\"\n",
    ")\n",
    "plt.xlim([0.0, 1.0])\n",
    "plt.ylim([0.0, 1.05])\n",
    "plt.xlabel(\"False Positive Rate\")\n",
    "plt.ylabel(\"True Positive Rate\")\n",
    "plt.title(\"Curva ROC\")\n",
    "plt.legend(loc=\"lower right\")\n",
    "plt.grid(visible=True)\n",
    "plt.show()"
   ]
  },
  {
   "cell_type": "code",
   "execution_count": 19,
   "id": "7f184caf",
   "metadata": {
    "ExecuteTime": {
     "end_time": "2025-07-24T23:32:46.877170Z",
     "start_time": "2025-07-24T23:32:45.155769Z"
    }
   },
   "outputs": [
    {
     "name": "stdout",
     "output_type": "stream",
     "text": [
      "Iniciando a validação robusta com k=13\n",
      "['0.8746615446823132', '0.8525625388412893', '0.8672578111509308', '0.8421984683868351', '0.8601222466205549', '0.8555436259777507', '0.8630277150311487', '0.8585527067661836', '0.8627917367237512', '0.8440955007340781', '0.8550791509217721', '0.8730169044988578', '0.8613817795705284', '0.8510493150385188', '0.8632620743412538', '0.8627711833496032', '0.8702255709825621', '0.8439259279902878', '0.8716677239766077', '0.8557779969387325', '0.8580819301895865', '0.861342224976819', '0.8456221379684917', '0.8672709524953536', '0.8597095540596424', '0.8580242574406703', '0.8586545642256003', '0.8509094535342936', '0.8439794064081602', '0.8624529130433161']\n",
      "\n",
      "==================================================\n",
      "Resultado Final após 30 Execuções da Validação Cruzada 5-Fold\n",
      "==================================================\n",
      "Modelo: KNN com k=13\n",
      "Métrica utilizada: f1_weighted\n",
      "Média das médias dos scores: 0.8585\n",
      "Desvio padrão das médias dos scores: 0.0087\n",
      "==================================================\n"
     ]
    }
   ],
   "source": [
    "print(f\"Iniciando a validação robusta com k={best_k}\")\n",
    "\n",
    "# Métrica a ser usada ('f1_weighted' ou 'balanced_accuracy')\n",
    "METRICA_ESCOLHIDA = \"f1_weighted\"\n",
    "\n",
    "metric_scores_means = []\n",
    "\n",
    "N_REPETICOES = 30\n",
    "\n",
    "for i in range(N_REPETICOES):\n",
    "    #  Divida os dados com um random_state diferente a cada iteração\n",
    "    X_train, X_test, y_train, y_test = train_test_split(\n",
    "        X, y, test_size=0.25, random_state=i\n",
    "    )\n",
    "\n",
    "    #  Padronize os dados DENTRO do loop\n",
    "    scaler = StandardScaler()\n",
    "    X_train_scaled = scaler.fit_transform(X_train)\n",
    "\n",
    "    #  Execute a validação cruzada com 5 folds no conjunto de TREINO\n",
    "    scores = cross_val_score(\n",
    "        estimator=best_knn_model,\n",
    "        X=X_train_scaled,\n",
    "        y=y_train,\n",
    "        cv=5,\n",
    "        scoring=METRICA_ESCOLHIDA,\n",
    "    )\n",
    "\n",
    "    metric_scores_means.append(scores.mean())\n",
    "    # print(\n",
    "    #     f\"Execução {i + 1}/{N_REPETICOES} | Média da {METRICA_ESCOLHIDA}: {scores.mean():.4f}\"\n",
    "    # )\n",
    "formatted_scores = [f\"{score}\" for score in metric_scores_means]\n",
    "print(formatted_scores)\n",
    "mean_of_means = np.mean(metric_scores_means)\n",
    "std_of_means = np.std(metric_scores_means)\n",
    "\n",
    "print(\"\\n\" + \"=\" * 50)\n",
    "print(\"Resultado Final após 30 Execuções da Validação Cruzada 5-Fold\")\n",
    "print(\"=\" * 50)\n",
    "print(f\"Modelo: KNN com k={best_k}\")\n",
    "print(f\"Métrica utilizada: {METRICA_ESCOLHIDA}\")\n",
    "print(f\"Média das médias dos scores: {mean_of_means:.4f}\")\n",
    "print(f\"Desvio padrão das médias dos scores: {std_of_means:.4f}\")\n",
    "print(\"=\" * 50)"
   ]
  }
 ],
 "metadata": {
  "kernelspec": {
   "display_name": "venv",
   "language": "python",
   "name": "python3"
  },
  "language_info": {
   "codemirror_mode": {
    "name": "ipython",
    "version": 3
   },
   "file_extension": ".py",
   "mimetype": "text/x-python",
   "name": "python",
   "nbconvert_exporter": "python",
   "pygments_lexer": "ipython3",
   "version": "3.12.3"
  }
 },
 "nbformat": 4,
 "nbformat_minor": 5
}
