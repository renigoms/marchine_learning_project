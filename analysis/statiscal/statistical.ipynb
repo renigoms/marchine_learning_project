{
 "cells": [
  {
   "cell_type": "code",
   "execution_count": 1,
   "id": "7aed3e23",
   "metadata": {},
   "outputs": [
    {
     "name": "stdout",
     "output_type": "stream",
     "text": [
      "Fail to reject null hypothesis that data is normal for column Decision Tree (p=0.642964>=0.010000)\n",
      "Fail to reject null hypothesis that data is normal for column KNN (p=0.319740>=0.010000)\n",
      "Fail to reject null hypothesis that data is normal for column Random Forest (p=0.208342>=0.010000)\n",
      "Fail to reject null hypothesis that data is normal for column Logistic Regression (p=0.669231>=0.010000)\n",
      "Fail to reject null hypothesis that data is normal for column SVM (p=0.598918>=0.010000)\n",
      "Using Bartlett's test for homoscedacity of normally distributed data\n",
      "Rejecting null hypothesis that all variances are equal (p=0.000000<0.050000)\n",
      "Using Friedman test as omnibus test\n",
      "Rejecting null hypothesis that there is no difference between the distributions (p=0.000000)\n",
      "Using Nemenyi post-hoc test. Differences are significant,if the distance between the mean ranks is greater than the critical distance.\n",
      "                     meanrank      mean       std  ci_lower  ci_upper  \\\n",
      "Logistic Regression  4.033333  0.854698  0.007450  0.850949  0.858447   \n",
      "Decision Tree        3.733333  0.855134  0.009616  0.850295  0.859973   \n",
      "KNN                  3.533333  0.858501  0.008889  0.854027  0.862974   \n",
      "Random Forest        2.100000  0.884134  0.053668  0.857126  0.911142   \n",
      "SVM                  1.600000  0.883028  0.006785  0.879614  0.886442   \n",
      "\n",
      "                    effect_size   magnitude effect_size_above magnitude_above  \n",
      "Logistic Regression         0.0  negligible               0.0      negligible  \n",
      "Decision Tree         -0.050696  negligible         -0.050696      negligible  \n",
      "KNN                   -0.463679       small         -0.363578           small  \n",
      "Random Forest         -0.768304      medium         -0.666387          medium  \n",
      "SVM                   -3.976079       large           0.02891      negligible  \n",
      "The statistical analysis was conducted for 5 populations with 30 paired samples.\n",
      "The family-wise significance level of the tests is alpha=0.050.\n",
      "We failed to reject the null hypothesis that the population is normal for all populations (minimal observed p-value=0.208). Therefore, we assume that all populations are normal.\n",
      "We applied Bartlett's test for homogeneity and reject the null hypothesis (p=0.000) that thedata is homoscedastic. Thus, we assume that our data is heteroscedastic.\n",
      "Because we have more than two populations and the populations are normal but heteroscedastic, we use the non-parametric Friedman test as omnibus test to determine if there are any significant differences between the mean values of the populations. We use the post-hoc Nemenyi test to infer which differences are significant. We report the mean value (M), the standard deviation (SD) and the mean rank (MR) among all populations over the samples. Differences between populations are significant, if the difference of the mean rank is greater than the critical distance CD=1.114 of the Nemenyi test.\n",
      "We reject the null hypothesis (p=0.000) of the Friedman test that there is no difference in the central tendency of the populations Logistic Regression (M=0.855+-0.004, SD=0.007, MR=4.033), Decision Tree (M=0.855+-0.005, SD=0.010, MR=3.733), KNN (M=0.859+-0.004, SD=0.009, MR=3.533), Random Forest (M=0.884+-0.027, SD=0.054, MR=2.100), and SVM (M=0.883+-0.003, SD=0.007, MR=1.600). Therefore, we assume that there is a statistically significant difference between the median values of the populations.\n",
      "Based on the post-hoc Nemenyi test, we assume that there are no significant differences within the following groups: Logistic Regression, Decision Tree, and KNN; Random Forest and SVM. All other differences are significant.\n",
      "None\n"
     ]
    },
    {
     "data": {
      "image/png": "[encoded data removed]",
      "text/plain": [
       "<Figure size 600x175 with 1 Axes>"
      ]
     },
     "metadata": {},
     "output_type": "display_data"
    }
   ],
   "source": [
    "import pandas as pd\n",
    "from autorank import autorank, create_report, plot_stats\n",
    "from scores import (\n",
    "    dt_f1_scores,\n",
    "    knn_f1_scores,\n",
    "    lg_f1_scores,\n",
    "    rf_f1_scores,\n",
    "    svm_f1_scores,\n",
    ")\n",
    "\n",
    "df = pd.DataFrame({\n",
    "    \"Decision Tree\": dt_f1_scores,\n",
    "    \"KNN\": knn_f1_scores,\n",
    "    \"Random Forest\": rf_f1_scores,\n",
    "    \"Logistic Regression\": lg_f1_scores,\n",
    "    \"SVM\": svm_f1_scores,\n",
    "})\n",
    "\n",
    "result = autorank(df, alpha=0.05, verbose=True)\n",
    "plot_stats(result)\n",
    "print(create_report(result))"
   ]
  },
  {
   "cell_type": "code",
   "execution_count": 2,
   "id": "99156914",
   "metadata": {},
   "outputs": [
    {
     "data": {
      "text/html": [
       "<div>\n",
       "<style scoped>\n",
       "    .dataframe tbody tr th:only-of-type {\n",
       "        vertical-align: middle;\n",
       "    }\n",
       "\n",
       "    .dataframe tbody tr th {\n",
       "        vertical-align: top;\n",
       "    }\n",
       "\n",
       "    .dataframe thead th {\n",
       "        text-align: right;\n",
       "    }\n",
       "</style>\n",
       "<table border=\"1\" class=\"dataframe\">\n",
       "  <thead>\n",
       "    <tr style=\"text-align: right;\">\n",
       "      <th></th>\n",
       "      <th>Mean F1</th>\n",
       "      <th>Std Dev</th>\n",
       "      <th>Mean Rank</th>\n",
       "      <th>Effect Size</th>\n",
       "      <th>Magnitude</th>\n",
       "    </tr>\n",
       "  </thead>\n",
       "  <tbody>\n",
       "    <tr>\n",
       "      <th>SVM</th>\n",
       "      <td>0.883028</td>\n",
       "      <td>0.006785</td>\n",
       "      <td>1.600000</td>\n",
       "      <td>-3.976079</td>\n",
       "      <td>large</td>\n",
       "    </tr>\n",
       "    <tr>\n",
       "      <th>Random Forest</th>\n",
       "      <td>0.884134</td>\n",
       "      <td>0.053668</td>\n",
       "      <td>2.100000</td>\n",
       "      <td>-0.768304</td>\n",
       "      <td>medium</td>\n",
       "    </tr>\n",
       "    <tr>\n",
       "      <th>KNN</th>\n",
       "      <td>0.858501</td>\n",
       "      <td>0.008889</td>\n",
       "      <td>3.533333</td>\n",
       "      <td>-0.463679</td>\n",
       "      <td>small</td>\n",
       "    </tr>\n",
       "    <tr>\n",
       "      <th>Decision Tree</th>\n",
       "      <td>0.855134</td>\n",
       "      <td>0.009616</td>\n",
       "      <td>3.733333</td>\n",
       "      <td>-0.050696</td>\n",
       "      <td>negligible</td>\n",
       "    </tr>\n",
       "    <tr>\n",
       "      <th>Logistic Regression</th>\n",
       "      <td>0.854698</td>\n",
       "      <td>0.007450</td>\n",
       "      <td>4.033333</td>\n",
       "      <td>0.0</td>\n",
       "      <td>negligible</td>\n",
       "    </tr>\n",
       "  </tbody>\n",
       "</table>\n",
       "</div>"
      ],
      "text/plain": [
       "                      Mean F1   Std Dev  Mean Rank Effect Size   Magnitude\n",
       "SVM                  0.883028  0.006785   1.600000   -3.976079       large\n",
       "Random Forest        0.884134  0.053668   2.100000   -0.768304      medium\n",
       "KNN                  0.858501  0.008889   3.533333   -0.463679       small\n",
       "Decision Tree        0.855134  0.009616   3.733333   -0.050696  negligible\n",
       "Logistic Regression  0.854698  0.007450   4.033333         0.0  negligible"
      ]
     },
     "execution_count": 2,
     "metadata": {},
     "output_type": "execute_result"
    }
   ],
   "source": [
    "tab = result.rankdf\n",
    "\n",
    "tab = tab.rename(columns={\n",
    "    \"mean\": \"Mean F1\",\n",
    "    \"std\": \"Std Dev\",\n",
    "    \"meanrank\": \"Mean Rank\",\n",
    "    \"effect_size\": \"Effect Size\",\n",
    "    \"magnitude\": \"Magnitude\"\n",
    "})\n",
    "\n",
    "tab = tab[[\"Mean F1\", \"Std Dev\", \"Mean Rank\", \"Effect Size\", \"Magnitude\"]]\n",
    "\n",
    "# Ordene pelo ranking (menor é melhor)\n",
    "tab = tab.sort_values(\"Mean Rank\")\n",
    "\n",
    "tab\n"
   ]
  }
 ],
 "metadata": {
  "kernelspec": {
   "display_name": "venv",
   "language": "python",
   "name": "python3"
  },
  "language_info": {
   "codemirror_mode": {
    "name": "ipython",
    "version": 3
   },
   "file_extension": ".py",
   "mimetype": "text/x-python",
   "name": "python",
   "nbconvert_exporter": "python",
   "pygments_lexer": "ipython3",
   "version": "3.12.3"
  }
 },
 "nbformat": 4,
 "nbformat_minor": 5
}
