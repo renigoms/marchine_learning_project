{
 "cells": [
  {
   "cell_type": "code",
   "id": "6d32d1b8",
   "metadata": {},
   "source": [
    "import pandas as pd\n",
    "import matplotlib.pyplot as plt\n",
    "import seaborn as snb"
   ],
   "outputs": [],
   "execution_count": null
  },
  {
   "cell_type": "code",
   "id": "64138f1b",
   "metadata": {},
   "source": [
    "data_frame = pd.read_excel(\"base/dados_tratados.xlsx\", \"data\")\n",
    "\n",
    "data_frame.head()"
   ],
   "outputs": [],
   "execution_count": null
  },
  {
   "cell_type": "code",
   "id": "1ded389a",
   "metadata": {},
   "source": [
    "data_frame.tail()"
   ],
   "outputs": [],
   "execution_count": null
  },
  {
   "cell_type": "code",
   "id": "abd4e25b",
   "metadata": {},
   "source": [
    "data_frame.info()"
   ],
   "outputs": [],
   "execution_count": null
  },
  {
   "cell_type": "code",
   "id": "219b6359",
   "metadata": {},
   "source": [
    "data_frame.describe()"
   ],
   "outputs": [],
   "execution_count": null
  },
  {
   "cell_type": "markdown",
   "id": "f7b5f665",
   "metadata": {},
   "source": [
    "### Protando alguns gráficos"
   ]
  },
  {
   "cell_type": "code",
   "id": "e1878576",
   "metadata": {},
   "source": [
    "snb.set(font_scale=1.3, rc={'figure.figsize':(20,20)})\n",
    "eixo = data_frame.hist(bins=20, color='blue')"
   ],
   "outputs": [],
   "execution_count": null
  },
  {
   "cell_type": "code",
   "id": "e0c13c55",
   "metadata": {},
   "source": [
    "plt.figure(figsize=(10,5))\n",
    "snb.boxplot(data=data_frame, x='diagnosis', y='radius_mean')"
   ],
   "outputs": [],
   "execution_count": null
  },
  {
   "cell_type": "code",
   "id": "169c4359",
   "metadata": {},
   "source": [
    "plt.figure(figsize=(10,5))\n",
    "snb.scatterplot(data=data_frame, y='diagnosis', x='radius_mean')"
   ],
   "outputs": [],
   "execution_count": null
  },
  {
   "cell_type": "markdown",
   "id": "2fd9c0c7",
   "metadata": {},
   "source": [
    "### Aplicando Modelo"
   ]
  },
  {
   "cell_type": "code",
   "id": "b01ae64a",
   "metadata": {},
   "source": [
    "caractericas = data_frame.iloc[:, :32].values\n",
    "previsor = data_frame.iloc[:, :1].values"
   ],
   "outputs": [],
   "execution_count": null
  },
  {
   "cell_type": "code",
   "id": "48fd52ae",
   "metadata": {},
   "source": [
    "caractericas"
   ],
   "outputs": [],
   "execution_count": null
  },
  {
   "cell_type": "code",
   "id": "954f467d",
   "metadata": {},
   "source": [
    "previsor"
   ],
   "outputs": [],
   "execution_count": null
  },
  {
   "cell_type": "code",
   "id": "927b98e1",
   "metadata": {},
   "source": [
    "%pip install scikit-learn\n"
   ],
   "outputs": [],
   "execution_count": null
  },
  {
   "cell_type": "code",
   "id": "1971dc5d",
   "metadata": {},
   "source": [
    "from sklearn.model_selection import train_test_split  \n",
    "\n",
    "x_treino, x_teste, y_treino, y_teste = train_test_split(caractericas, previsor, test_size=0.6)"
   ],
   "outputs": [],
   "execution_count": null
  },
  {
   "cell_type": "code",
   "id": "0aa1b96f",
   "metadata": {},
   "source": [
    "from sklearn.linear_model import LogisticRegression\n",
    "\n",
    "funcao_logistica = LogisticRegression()\n",
    "funcao_logistica.fit(x_treino, y_treino)"
   ],
   "outputs": [],
   "execution_count": null
  },
  {
   "cell_type": "code",
   "id": "7fa7d517",
   "metadata": {},
   "source": [
    "previssoes = funcao_logistica.predict(x_teste)"
   ],
   "outputs": [],
   "execution_count": null
  },
  {
   "cell_type": "code",
   "id": "3b6bb29d",
   "metadata": {},
   "source": [
    "previssoes"
   ],
   "outputs": [],
   "execution_count": null
  },
  {
   "cell_type": "code",
   "id": "71eddc0e",
   "metadata": {},
   "source": [
    "y_teste"
   ],
   "outputs": [],
   "execution_count": null
  },
  {
   "cell_type": "markdown",
   "id": "1336b2e1",
   "metadata": {},
   "source": [
    "### Verificando acertividade"
   ]
  },
  {
   "cell_type": "code",
   "id": "56a24605",
   "metadata": {},
   "source": [
    "from sklearn.metrics import confusion_matrix\n",
    "\n",
    "confusion_matrix(y_teste, previssoes)"
   ],
   "outputs": [],
   "execution_count": null
  },
  {
   "cell_type": "code",
   "id": "4973016c",
   "metadata": {},
   "source": [
    "from sklearn.metrics import classification_report\n",
    "\n",
    "print(classification_report(y_teste, previssoes))"
   ],
   "outputs": [],
   "execution_count": null
  }
 ],
 "metadata": {
  "kernelspec": {
   "display_name": ".venv",
   "language": "python",
   "name": "python3"
  },
  "language_info": {
   "codemirror_mode": {
    "name": "ipython",
    "version": 3
   },
   "file_extension": ".py",
   "mimetype": "text/x-python",
   "name": "python",
   "nbconvert_exporter": "python",
   "pygments_lexer": "ipython3",
   "version": "3.12.3"
  }
 },
 "nbformat": 4,
 "nbformat_minor": 5
}
