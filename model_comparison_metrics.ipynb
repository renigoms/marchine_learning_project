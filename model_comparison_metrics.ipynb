{
 "cells": [
  {
   "cell_type": "code",
   "execution_count": 10,
   "id": "0af4fe5a",
   "metadata": {},
   "outputs": [
    {
     "data": {
      "text/html": [
       "<div>\n",
       "<style scoped>\n",
       "    .dataframe tbody tr th:only-of-type {\n",
       "        vertical-align: middle;\n",
       "    }\n",
       "\n",
       "    .dataframe tbody tr th {\n",
       "        vertical-align: top;\n",
       "    }\n",
       "\n",
       "    .dataframe thead th {\n",
       "        text-align: right;\n",
       "    }\n",
       "</style>\n",
       "<table border=\"1\" class=\"dataframe\">\n",
       "  <thead>\n",
       "    <tr style=\"text-align: right;\">\n",
       "      <th></th>\n",
       "      <th>Model</th>\n",
       "      <th>Training Accuracy</th>\n",
       "      <th>Balanced Accuracy (Test)</th>\n",
       "      <th>F1 Score (Test)</th>\n",
       "    </tr>\n",
       "  </thead>\n",
       "  <tbody>\n",
       "    <tr>\n",
       "      <th>0</th>\n",
       "      <td>K-Nearest Neighbors</td>\n",
       "      <td>0.880814</td>\n",
       "      <td>0.893586</td>\n",
       "      <td>0.864508</td>\n",
       "    </tr>\n",
       "    <tr>\n",
       "      <th>1</th>\n",
       "      <td>Random Forest</td>\n",
       "      <td>0.933140</td>\n",
       "      <td>0.861794</td>\n",
       "      <td>0.906250</td>\n",
       "    </tr>\n",
       "    <tr>\n",
       "      <th>2</th>\n",
       "      <td>Logistic Regression</td>\n",
       "      <td>0.867733</td>\n",
       "      <td>0.851619</td>\n",
       "      <td>0.852062</td>\n",
       "    </tr>\n",
       "  </tbody>\n",
       "</table>\n",
       "</div>"
      ],
      "text/plain": [
       "                 Model  Training Accuracy  Balanced Accuracy (Test)  \\\n",
       "0  K-Nearest Neighbors           0.880814                  0.893586   \n",
       "1        Random Forest           0.933140                  0.861794   \n",
       "2  Logistic Regression           0.867733                  0.851619   \n",
       "\n",
       "   F1 Score (Test)  \n",
       "0         0.864508  \n",
       "1         0.906250  \n",
       "2         0.852062  "
      ]
     },
     "metadata": {},
     "output_type": "display_data"
    }
   ],
   "source": [
    "import pandas as pd\n",
    "\n",
    "knn_train_accuracy = 0.8808139534883721\n",
    "knn_balanced_accuracy = 0.8617941712204007\n",
    "knn_f1_score = 0.8645083484082923\n",
    "\n",
    "rf_train_accuracy = 0.9331395348837209\n",
    "rf_balanced_accuracy = 0.8935861172693219\n",
    "rf_f1_score = 0.90625\n",
    "\n",
    "lg_train_accuracy = 0.8677325581395349\n",
    "lg_balanced_accuracy = 0.8516192493946732\n",
    "lg_f1_score = 0.8520619235836627\n",
    "\n",
    "models_df = pd.DataFrame(\n",
    "    {\n",
    "        \"Model\": [\"K-Nearest Neighbors\", \"Random Forest\", \"Logistic Regression\"],\n",
    "        \"Training Accuracy\": [knn_train_accuracy, rf_train_accuracy, lg_train_accuracy],\n",
    "        \"Balanced Accuracy (Test)\": [\n",
    "            rf_balanced_accuracy,\n",
    "            knn_balanced_accuracy,\n",
    "            lg_balanced_accuracy,\n",
    "        ],\n",
    "        \"F1 Score (Test)\": [knn_f1_score, rf_f1_score, lg_f1_score],\n",
    "    }\n",
    ")\n",
    "\n",
    "sorted_models_df = models_df.sort_values(by=\"Balanced Accuracy (Test)\", ascending=False)\n",
    "\n",
    "display(sorted_models_df)"
   ]
  }
 ],
 "metadata": {
  "kernelspec": {
   "display_name": ".venv",
   "language": "python",
   "name": "python3"
  },
  "language_info": {
   "codemirror_mode": {
    "name": "ipython",
    "version": 3
   },
   "file_extension": ".py",
   "mimetype": "text/x-python",
   "name": "python",
   "nbconvert_exporter": "python",
   "pygments_lexer": "ipython3",
   "version": "3.12.3"
  }
 },
 "nbformat": 4,
 "nbformat_minor": 5
}
